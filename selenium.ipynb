{
 "cells": [
  {
   "cell_type": "code",
   "execution_count": 77,
   "id": "cf133a86",
   "metadata": {
    "pycharm": {
     "name": "#%%\n"
    }
   },
   "outputs": [],
   "source": [
    "from selenium import webdriver\n",
    "from selenium.webdriver.common.keys import Keys\n",
    "from selenium.webdriver.support.ui import WebDriverWait\n",
    "from selenium.webdriver.common.by import By\n",
    "from selenium.webdriver.support import expected_conditions as EC\n",
    "from selenium.webdriver.support.select import Select\n",
    "from selenium.common.exceptions import NoSuchElementException, WebDriverException\n",
    "import time\n",
    "\n",
    "browser = webdriver.Chrome()\n",
    "try:\n",
    "    browser.get('http://dkuhub.dku.edu.cn/psp/CSPRD01/EMPLOYEE/SA/c/SA_LEARNER_SERVICES.CLASS_SEARCH.GBL?Page=SSR_CLSRCH_ENTRY')\n",
    "except WebDriverException:\n",
    "    print('Internet Error: Cannot Get dkuhub')\n",
    "    exit(0)\n",
    "    \n",
    "usr = 'ms1129'\n",
    "pwd = 'qV7urPGc@@YM9Br'\n",
    "term_name = '2023 Spring Term'\n",
    "\n",
    "browser.find_element(By.ID, 'expand-netid').click()\n",
    "WebDriverWait(browser, 20).until(EC.element_to_be_clickable((By.ID, 'j_username'))).send_keys(usr)\n",
    "browser.find_element(By.ID, 'j_password').send_keys(pwd)\n",
    "browser.find_element(By.ID, 'Submit').click()\n",
    "browser.switch_to.frame('ptifrmtgtframe')"
   ]
  },
  {
   "cell_type": "code",
   "execution_count": 84,
   "id": "dda87827",
   "metadata": {
    "pycharm": {
     "name": "#%%\n"
    }
   },
   "outputs": [
    {
     "name": "stdout",
     "output_type": "stream",
     "text": [
      "{' ': '', 'Arts and Humanities': 'ARHU', 'Behavioral Science': 'BEHAVSCI', 'Biology': 'BIOL', 'Capstone': 'CAPSTONE', 'Chemistry': 'CHEM', 'Chinese': 'CHINESE', 'Computer Science': 'COMPSCI', 'Cultural Anthropology': 'CULANTH', 'Cultures and Movements': 'CULMOVE', 'Economics': 'ECON', 'Electrical & Computer Egr': 'ECE', 'English for Academic Purposes': 'EAP', 'Environment': 'ENVIR', 'Ethics and Leadership': 'ETHLDR', 'French': 'FRENCH', 'German': 'GERMAN', 'Global China Studies': 'GCHINA', 'Global Cultural Studies': 'GCULS', 'Global Health': 'GLHLTH', 'History': 'HIST', 'Information Science': 'INFOSCI', 'Institutions and Governance': 'INSTGOV', 'Italian': 'ITALIAN', 'Japanese': 'JAPANESE', 'Literature': 'LIT', 'Material Science': 'MATSCI', 'Mathematics': 'MATH', 'Media and Arts': 'MEDIART', 'Medical Physics': 'MEDPHY', 'Music': 'MUSIC', 'Neuroscience': 'NEUROSCI', 'Philosophy': 'PHIL', 'Physics': 'PHYS', 'Political Economy': 'POLECON', 'Political Science': 'POLSCI', 'Psychology': 'PSYCH', 'Public Policy': 'PUBPOL', 'Religious Studies': 'RELIG', 'Social Science': 'SOSC', 'Sociology': 'SOCIOL', 'Spanish': 'SPANISH', 'Statistics': 'STATS', 'US Studies': 'USTUD', 'Written and Oral Communication': 'WOC'}\n"
     ]
    }
   ],
   "source": [
    "print({each.text: each.get_attribute('value') for each in Select(browser.find_element(By.ID, 'SSR_CLSRCH_WRK_SUBJECT_SRCH$0')).options})  # subject_dict"
   ]
  },
  {
   "cell_type": "code",
   "execution_count": 82,
   "outputs": [
    {
     "name": "stdout",
     "output_type": "stream",
     "text": [
      "39.22726488113403\n",
      "{'WOC 190 - Special Topics in Writing': {'001-SEM': {'section': 'Seven Wk 1', 'number': '1527', 'time': ['MoWe 20:10 - 21:10'], 'room': ['TBA'], 'instr': ['Austin WOERNER'], 'date': ['2023/01/09 - 2023/03/02'], 'cap': '12', 'wait': 'Wait List Capacity', 'enrl_tot': '0', 'wait_tot': 'Wait List Total', 'seats': '12'}, 'desc': 'This is a theme-based writing seminar course through which students strengthen their creative or expository writing skills through exploration of a topic chosen by the instructor. This course is open to all undergraduate students.', 'units': '2 units', 'attr': '', 'mode': 'In Person', 'loc': 'Kunshan Campus', 'pre': '', '002-SEM': {'section': 'Seven Wk 2', 'number': '1528', 'time': ['MoWe 20:10 - 21:10'], 'room': ['TBA'], 'instr': ['Austin WOERNER'], 'date': ['2023/03/20 - 2023/05/11'], 'cap': '12', 'wait': 'Wait List Capacity', 'enrl_tot': '0', 'wait_tot': 'Wait List Total', 'seats': '12'}}, 'WOC 201 - Academic Writing 1: Argumentation Across Disciplines': {'001-SEM': {'section': 'Seven Wk 1', 'number': '1446', 'time': ['MoWe 10:00 - 11:15', 'MoWe 19:00 - 20:00'], 'room': ['TBA', 'TBA'], 'instr': ['Kevin SPRAGUE', 'Kevin SPRAGUE'], 'date': ['2023/01/09 - 2023/03/02', '2023/01/09 - 2023/03/02'], 'cap': '12', 'wait': 'Wait List Capacity', 'enrl_tot': '0', 'wait_tot': 'Wait List Total', 'seats': '12'}, 'desc': 'This course aims to help students become better academic writers by exploring how the features of a persuasive argument vary across the sciences, humanities, and social sciences. The course will first explore fundamental features of argumentative writing for a general audience, including organizational structure and language. Fundamentals in mind, the second half of the course explores how these ideas and practices can be adapted for specific academic purposes. The course will seek answers to the following questions: How do the means of persuasion change depending on the audience? How do disciplinary goals shape arguments? How do cultural and language differences influence persuasion in different contexts? How do citation and style conventions differ across disciplinary contexts and why?', 'units': '2 units', 'attr': '', 'mode': 'In Person', 'loc': 'Kunshan Campus', 'pre': 'Prerequisite: EAP 102B or equivalent', '002-SEM': {'section': 'Seven Wk 2', 'number': '1447', 'time': ['MoWe 10:00 - 11:15', 'MoWe 19:00 - 20:00'], 'room': ['TBA', 'TBA'], 'instr': ['Kevin SPRAGUE', 'Kevin SPRAGUE'], 'date': ['2023/03/20 - 2023/05/11', '2023/03/20 - 2023/05/11'], 'cap': '12', 'wait': 'Wait List Capacity', 'enrl_tot': '0', 'wait_tot': 'Wait List Total', 'seats': '12'}}, 'WOC 206 - Debating Scenarios for Sustainable Futures': {'001-SEM': {'section': 'Seven Wk 2', 'number': '1450', 'time': ['MoWe 21:20 - 22:20', 'TuTh 13:15 - 14:30'], 'room': ['TBA', 'TBA'], 'instr': ['Kevin SPRAGUE', 'Kevin SPRAGUE'], 'date': ['2023/03/20 - 2023/05/11', '2023/03/20 - 2023/05/11'], 'cap': '12', 'wait': 'Wait List Capacity', 'enrl_tot': '0', 'wait_tot': 'Wait List Total', 'seats': '12'}, 'desc': 'This course will focus on the fundamentals of argumentation, refutation, and value and impact analysis. Rather than allowing debates to end with a winner, however, students will also explore the importance of reconciliation with consensus-building tasks that generate alternative solutions by considering all stakeholder perspectives and suggesting amicable resolutions to these debates.', 'units': '2 units', 'attr': '', 'mode': 'In Person', 'loc': 'Kunshan Campus', 'pre': 'Prerequisite: EAP 101B or equivalent'}, 'WOC 207 - Translation Workshop – Chinese/English English/Chinese': {'001-SEM': {'section': 'Seven Wk 1', 'number': '1529', 'time': ['TuTh 20:10 - 21:10'], 'room': ['TBA'], 'instr': ['Austin WOERNER'], 'date': ['2023/01/09 - 2023/03/02'], 'cap': '12', 'wait': 'Wait List Capacity', 'enrl_tot': '0', 'wait_tot': 'Wait List Total', 'seats': '12'}, 'desc': 'This class is a practical introduction to the art of written translation for students with advanced proficiency in both Chinese and English. Its goal is to give students hands-on experience translating a variety of interesting and challenging texts between Chinese and English, thereby honing their skills as readers and writers of both languages while also probing deeper philosophical questions about how translation works.', 'units': '2 units', 'attr': '', 'mode': 'In Person', 'loc': 'Kunshan Campus', 'pre': 'Prerequisite: EAP102B or CHN 402B or consent of instructor', '002-SEM': {'section': 'Seven Wk 2', 'number': '1530', 'time': ['TuTh 20:10 - 21:10'], 'room': ['TBA'], 'instr': ['Austin WOERNER'], 'date': ['2023/03/20 - 2023/05/11'], 'cap': '12', 'wait': 'Wait List Capacity', 'enrl_tot': '0', 'wait_tot': 'Wait List Total', 'seats': '12'}}, 'WOC 211 - Composing Research 1: Developing a Research Proposal': {'001-SEM': {'section': 'Seven Wk 2', 'number': '1451', 'time': ['MoWe 08:30 - 09:45', 'TuTh 19:00 - 20:00'], 'room': ['TBA', 'TBA'], 'instr': ['Yachao Sun', 'Yachao Sun'], 'date': ['2023/03/20 - 2023/05/11', '2023/03/20 - 2023/05/11'], 'cap': '12', 'wait': 'Wait List Capacity', 'enrl_tot': '0', 'wait_tot': 'Wait List Total', 'seats': '12'}, 'desc': 'WOC 211 aims at preparing students for their signature work at DKU and similar projects. This research preparedness course will engage students with writing on the research process and guide them in producing a research proposal on their chosen topics. Students will search for and evaluate relevant literature, store and manage references, frame the research question(s), and determine research approaches. Students will develop their critical thinking, problem-solving, teamwork, and communication skills during the research proposal writing process. These learning modules will help students learn how to engage in academic conversations and contribute to the existing literature.', 'units': '2 units', 'attr': '', 'mode': 'In Person', 'loc': 'Kunshan Campus', 'pre': 'Prerequisite: EAP track students must complete EAP 102B before enrolling.', '002-SEM': {'section': 'Seven Wk 2', 'number': '1452', 'time': ['MoWe 14:45 - 16:00', 'TuTh 20:10 - 21:10'], 'room': ['TBA', 'TBA'], 'instr': ['Yachao Sun', 'Yachao Sun'], 'date': ['2023/03/20 - 2023/05/11', '2023/03/20 - 2023/05/11'], 'cap': '12', 'wait': 'Wait List Capacity', 'enrl_tot': '0', 'wait_tot': 'Wait List Total', 'seats': '12'}}, 'WOC 212 - Composing Research 2: Developing a Research Paper': {'001-SEM': {'section': 'Seven Wk 1', 'number': '1448', 'time': ['MoWe 13:15 - 14:30', 'MoWe 21:20 - 22:20'], 'room': ['TBA', 'TBA'], 'instr': ['Yachao Sun', 'Yachao Sun'], 'date': ['2023/01/09 - 2023/03/02', '2023/01/09 - 2023/03/02'], 'cap': '12', 'wait': 'Wait List Capacity', 'enrl_tot': '0', 'wait_tot': 'Wait List Total', 'seats': '12'}, 'desc': \"WOC 212 continues to prepare students for their signature work at DKU and similar projects. This course will guide students in conducting their proposed research and developing a preliminary research paper. Students will do writing assignments in which they analyze data, assess data's validity and reliability, report findings based on research questions, and discuss their findings in light of other relevant studies. Through these writing assignments, students will build a foundation of knowledge on a topic, practice collecting and analyzing data, learn how to answer research questions by reporting their results and discussing their findings, and familiarize themselves with the academic research process.\", 'units': '2 units', 'attr': '', 'mode': 'In Person', 'loc': 'Kunshan Campus', 'pre': 'Prerequisite: WOC211 or consent of instructor', '002-SEM': {'section': 'Seven Wk 1', 'number': '1449', 'time': ['MoWe 19:00 - 20:00', 'TuTh 10:00 - 11:15'], 'room': ['TBA', 'TBA'], 'instr': ['Yachao Sun', 'Yachao Sun'], 'date': ['2023/01/09 - 2023/03/02', '2023/01/09 - 2023/03/02'], 'cap': '12', 'wait': 'Wait List Capacity', 'enrl_tot': '0', 'wait_tot': 'Wait List Total', 'seats': '12'}}, 'WOC 215 - Watching Forbidden Love in Chinese Films': {'001-SEM': {'section': 'Seven Wk 2', 'number': '1453', 'time': ['MoWe 16:15 - 17:30', 'MoWe 20:10 - 21:10'], 'room': ['TBA', 'TBA'], 'instr': ['Wenting Ji', 'Wenting Ji'], 'date': ['2023/03/20 - 2023/05/11', '2023/03/20 - 2023/05/11'], 'cap': '15', 'wait': 'Wait List Capacity', 'enrl_tot': '0', 'wait_tot': 'Wait List Total', 'seats': '15'}, 'desc': 'This course introduces a variety of Chinese romance films and related cultural discussion from the last decade of the 20th century to the 21th century. We will explore how these films present and twist the idea of forbidden love in modern China, how they shape and break contemporary director’s and audience’s expectations, and how they connect to the development of contemporary Chinese pop culture and media industry. With the class discussion alternating between “Chinese days” and “English days,” both international students and Chinese students will get the chance to practice listening and speaking in their target languages and learn to make presentable digital essays using video making tools.', 'units': '2 units', 'attr': '', 'mode': 'In Person', 'loc': 'Kunshan Campus', 'pre': 'Prerequisite: EAP102B or CHN 402B or consent of instructor'}}\n"
     ]
    }
   ],
   "source": [
    "subject_num = len(Select(browser.find_element(By.ID, 'SSR_CLSRCH_WRK_SUBJECT_SRCH$0')).options)\n",
    "data = {}\n",
    "t1 = time.time()\n",
    "term_selector = Select(browser.find_element(By.ID, 'CLASS_SRCH_WRK2_STRM$35$'))\n",
    "options_text = [each.text for each in term_selector.options]\n",
    "if term_name not in options_text:\n",
    "    print('Error: Invalid term, check all terms below\\n', '\\n'.join(options_text))\n",
    "term_selector.select_by_visible_text(term_name)\n",
    "time.sleep(1)\n",
    "Select(browser.find_element(By.ID, 'SSR_CLSRCH_WRK_ACAD_CAREER$2')).select_by_value('UGRD')\n",
    "time.sleep(1)\n",
    "n_frame = 0\n",
    "for i in range(42, subject_num):\n",
    "    subject = Select(browser.find_element(By.ID, 'SSR_CLSRCH_WRK_SUBJECT_SRCH$0'))\n",
    "    if subject.options[i].text == 'Medical Physics' or subject.options[i].text == 'Electrical & Computer Egr':\n",
    "        continue\n",
    "    subject.select_by_index(i)\n",
    "    browser.find_element(By.ID, 'SSR_CLSRCH_WRK_UNITS_MINIMUM$10').send_keys(Keys.ENTER)\n",
    "    if subject.options[i].text == 'English for Academic Purposes' or subject.options[i].text == 'Chinese':\n",
    "        browser.switch_to.default_content()\n",
    "        WebDriverWait(browser, 30).until(EC.presence_of_element_located((By.ID, f'ptModFrame_{n_frame}')))\n",
    "        browser.switch_to.frame(f'ptModFrame_{n_frame}')\n",
    "        browser.find_element(By.ID, '#ICSave').click()\n",
    "        browser.switch_to.default_content()\n",
    "        browser.switch_to.frame('ptifrmtgtframe')\n",
    "        n_frame += 1\n",
    "    WebDriverWait(browser, 100).until(EC.presence_of_element_located((By.ID, 'win0divSSR_CLSRSLT_WRK_GROUPBOX2GP$0')))\n",
    "    class_num = int(browser.find_element(By.CLASS_NAME, 'PSGROUPBOXLABEL').text.split(' ')[0])\n",
    "    t = 0\n",
    "    index = 0\n",
    "    while t < class_num:\n",
    "        course_name = WebDriverWait(browser, 100).until(EC.presence_of_element_located((By.ID, f'win0divSSR_CLSRSLT_WRK_GROUPBOX2GP${index}'))).text.strip()\n",
    "        course = data[course_name] = {}\n",
    "        classes_num = len(WebDriverWait(browser, 100).until(EC.presence_of_element_located((By.ID, f'ACE_$ICField48${index}'))).find_elements(By.TAG_NAME, 'tr')) // 8\n",
    "        for j in range(classes_num):\n",
    "            name, section = WebDriverWait(browser, 100).until(EC.presence_of_element_located((By.ID, f'win0divMTG_CLASSNAME${t}'))).text.split('\\n')\n",
    "            course[name] = {}\n",
    "            course[name]['section'] = section\n",
    "            course[name]['number'] = browser.find_element(By.ID, f'win0divMTG_CLASS_NBR${t}').text\n",
    "            course[name]['time'] = browser.find_element(By.ID, f'win0divMTG_DAYTIME${t}').text.split('\\n')\n",
    "            course[name]['room'] = browser.find_element(By.ID, f'win0divMTG_ROOM${t}').text.split('\\n')\n",
    "            course[name]['instr'] = browser.find_element(By.ID, f'win0divMTG_INSTR${t}').text.replace(',\\n', ', ').split('\\n')\n",
    "            course[name]['date'] = browser.find_element(By.ID, f'win0divMTG_TOPIC${t}').text.split('\\n')\n",
    "            browser.execute_script(f\"javascript:submitAction_win0(document.win0,'MTG_CLASSNAME${t}');\")\n",
    "            if 'desc' not in course:\n",
    "                course['desc'] = WebDriverWait(browser, 100).until(EC.presence_of_element_located((By.ID, f'DERIVED_CLSRCH_DESCRLONG'))).text\n",
    "                course['units'] = browser.find_element(By.ID, f'SSR_CLS_DTL_WRK_UNITS_RANGE').text\n",
    "                try:\n",
    "                    course['attr'] = browser.find_element(By.ID, f'SSR_CLS_DTL_WRK_SSR_CRSE_ATTR_LONG').text\n",
    "                except NoSuchElementException:\n",
    "                    course['attr'] = ''\n",
    "                course['mode'] = browser.find_element(By.ID, f'INSTRUCT_MODE_DESCR').text  # online\n",
    "                course['loc'] = browser.find_element(By.ID, f'CAMPUS_LOC_VW_DESCR').text\n",
    "                try:\n",
    "                    course['pre'] = browser.find_element(By.ID, f'SSR_CLS_DTL_WRK_SSR_REQUISITE_LONG').text\n",
    "                except NoSuchElementException:\n",
    "                    course['pre'] = ''\n",
    "            course[name]['cap'] = WebDriverWait(browser, 100).until(EC.presence_of_element_located((By.ID, f'SSR_CLS_DTL_WRK_ENRL_CAP'))).text  # capacity\n",
    "            course[name]['wait'] = browser.find_element(By.ID, f'win0divSSR_CLS_DTL_WRK_WAIT_CAPlbl').text  # wait list cap\n",
    "            course[name]['enrl_tot'] = browser.find_element(By.ID, f'SSR_CLS_DTL_WRK_ENRL_TOT').text  # enrollment total\n",
    "            course[name]['wait_tot'] = browser.find_element(By.ID, f'win0divSSR_CLS_DTL_WRK_WAIT_TOTlbl').text\n",
    "            course[name]['seats'] = browser.find_element(By.ID, f'SSR_CLS_DTL_WRK_AVAILABLE_SEATS').text\n",
    "            browser.find_element(By.ID, 'CLASS_SRCH_WRK2_SSR_PB_BACK').click()\n",
    "            t += 1\n",
    "        index += 1\n",
    "    WebDriverWait(browser, 100).until(EC.presence_of_element_located((By.ID, f'CLASS_SRCH_WRK2_SSR_PB_MODIFY'))).click()\n",
    "    WebDriverWait(browser, 100).until(EC.presence_of_element_located((By.ID, 'SSR_CLSRCH_WRK_SUBJECT_SRCH$0')))\n",
    "print(time.time() - t1)\n",
    "print(data)"
   ],
   "metadata": {
    "collapsed": false,
    "pycharm": {
     "name": "#%%\n"
    }
   }
  },
  {
   "cell_type": "code",
   "execution_count": 3,
   "id": "04075258",
   "metadata": {
    "pycharm": {
     "name": "#%%\n"
    }
   },
   "outputs": [
    {
     "name": "stdout",
     "output_type": "stream",
     "text": [
      "517\n"
     ]
    }
   ],
   "source": [
    "term_selector = Select(browser.find_element(By.ID, 'CLASS_SRCH_WRK2_STRM$35$'))\n",
    "options_text = [each.text for each in term_selector.options]\n",
    "if term_name not in options_text:\n",
    "    print('Error: Invalid term, check all terms below\\n', '\\n'.join(options_text))\n",
    "term_selector.select_by_visible_text(term_name)\n",
    "time.sleep(1)\n",
    "Select(browser.find_element(By.ID, 'SSR_CLSRCH_WRK_ACAD_CAREER$2')).select_by_value('UGRD')\n",
    "time.sleep(1)\n",
    "Select(browser.find_element(By.ID, 'SSR_CLSRCH_WRK_LOCATION$6')).select_by_visible_text('Kunshan Campus')\n",
    "time.sleep(1)\n",
    "browser.find_element(By.ID, 'SSR_CLSRCH_WRK_UNITS_MINIMUM$10').send_keys(Keys.ENTER)\n",
    "browser.switch_to.default_content()\n",
    "WebDriverWait(browser, 30).until(EC.presence_of_element_located((By.ID, 'ptModFrame_0')))\n",
    "browser.switch_to.frame('ptModFrame_0')\n",
    "browser.find_element(By.ID, '#ICSave').click()\n",
    "browser.switch_to.default_content()\n",
    "browser.switch_to.frame('ptifrmtgtframe')\n",
    "WebDriverWait(browser, 100).until(EC.presence_of_element_located((By.ID, 'win0divSSR_CLSRSLT_WRK_GROUPBOX2GP$0')))\n",
    "class_num = int(browser.find_element(By.CLASS_NAME, 'PSGROUPBOXLABEL').text.split(' ')[0])\n",
    "print(class_num)"
   ]
  },
  {
   "cell_type": "code",
   "execution_count": 33,
   "outputs": [
    {
     "name": "stdout",
     "output_type": "stream",
     "text": [
      "This course provides a broad overview of the research methods and applications of behavioral science. It introduces core phenomena of human behavior including but not limited to decision making, perception and action, and group interactions. It also considers how behavior is influenced by institutions (e.g., governmental policies, business, environment). The course is expressly interdisciplinary, drawing upon theories and empirical research in psychology, behavioral economics, political science, and other social sciences.\n"
     ]
    }
   ],
   "source": [
    "print(browser.find_element(By.ID, f'DERIVED_CLSRCH_DESCRLONG').text)"
   ],
   "metadata": {
    "collapsed": false,
    "pycharm": {
     "name": "#%%\n"
    }
   }
  },
  {
   "cell_type": "code",
   "execution_count": 5,
   "outputs": [
    {
     "data": {
      "text/plain": "'Training in close reading and analysis of text remains a foundational skill in the arts and humanities, whether the text is literary or documentary. This core course combines practical training in close reading of a variety of texts, with strategies of analysis that are theoretically informed without, however, offering a comprehensive treatment of theory per se. The course will focus both on reading and analysis of literary texts, and on the nuanced unpacking of documents (official, unofficial, personal) with a view to historical method.'"
     },
     "execution_count": 5,
     "metadata": {},
     "output_type": "execute_result"
    }
   ],
   "source": [
    "browser.find_element(By.ID, f'DERIVED_CLSRCH_DESCRLONG').text"
   ],
   "metadata": {
    "collapsed": false,
    "pycharm": {
     "name": "#%%\n"
    }
   }
  },
  {
   "cell_type": "code",
   "execution_count": 16,
   "outputs": [
    {
     "data": {
      "text/plain": "'4 units'"
     },
     "execution_count": 16,
     "metadata": {},
     "output_type": "execute_result"
    }
   ],
   "source": [],
   "metadata": {
    "collapsed": false,
    "pycharm": {
     "name": "#%%\n"
    }
   }
  },
  {
   "cell_type": "code",
   "execution_count": 15,
   "outputs": [
    {
     "data": {
      "text/plain": "'30'"
     },
     "execution_count": 15,
     "metadata": {},
     "output_type": "execute_result"
    }
   ],
   "source": [],
   "metadata": {
    "collapsed": false,
    "pycharm": {
     "name": "#%%\n"
    }
   }
  },
  {
   "cell_type": "code",
   "execution_count": 19,
   "outputs": [
    {
     "data": {
      "text/plain": "'Quantitative Reasoning'"
     },
     "execution_count": 19,
     "metadata": {},
     "output_type": "execute_result"
    }
   ],
   "source": [],
   "metadata": {
    "collapsed": false,
    "pycharm": {
     "name": "#%%\n"
    }
   }
  },
  {
   "cell_type": "code",
   "execution_count": 18,
   "outputs": [
    {
     "data": {
      "text/plain": "'Prerequisite: COMPSCI 301 or COMPSCI 306 or COMPSCI 308 or COMPSCI 310 or COMPSCI 311'"
     },
     "execution_count": 18,
     "metadata": {},
     "output_type": "execute_result"
    }
   ],
   "source": [],
   "metadata": {
    "collapsed": false,
    "pycharm": {
     "name": "#%%\n"
    }
   }
  },
  {
   "cell_type": "code",
   "execution_count": 17,
   "outputs": [
    {
     "name": "stdout",
     "output_type": "stream",
     "text": [
      "done\n"
     ]
    }
   ],
   "source": [
    "\n"
   ],
   "metadata": {
    "collapsed": false,
    "pycharm": {
     "name": "#%%\n"
    }
   }
  },
  {
   "cell_type": "code",
   "execution_count": 20,
   "outputs": [],
   "source": [],
   "metadata": {
    "collapsed": false,
    "pycharm": {
     "name": "#%%\n"
    }
   }
  },
  {
   "cell_type": "code",
   "execution_count": null,
   "outputs": [],
   "source": [
    "t = 0\n",
    "index = 0\n",
    "data = {}\n",
    "while t < class_num:\n",
    "    classes_num = len(browser.find_element(By.ID, f'ACE_$ICField48${index}').find_elements(By.TAG_NAME, 'tr')) // 8\n",
    "    course_name = browser.find_element(By.ID, f'win0divSSR_CLSRSLT_WRK_GROUPBOX2GP${index}').text.strip()\n",
    "    course = data[course_name] = {}\n",
    "\n",
    "    for i in range(classes_num):\n",
    "        name, section = browser.find_element(By.ID, f'win0divMTG_CLASSNAME${t}').text.split('\\n')\n",
    "        course[name] = {}\n",
    "        course[name]['section'] = section\n",
    "        course[name]['number'] = browser.find_element(By.ID, f'win0divMTG_CLASS_NBR${t}').text\n",
    "        course[name]['time'] = browser.find_element(By.ID, f'win0divMTG_DAYTIME${t}').text.split('\\n')\n",
    "        course[name]['room'] = browser.find_element(By.ID, f'win0divMTG_ROOM${t}').text.split('\\n')\n",
    "        course[name]['instr'] = browser.find_element(By.ID, f'win0divMTG_INSTR${t}').text.replace(',\\n', ', ').split('\\n')\n",
    "        course[name]['date'] = browser.find_element(By.ID, f'win0divMTG_TOPIC${t}').text.split('\\n')\n",
    "        t += 1\n",
    "    index += 1\n",
    "print(data)"
   ],
   "metadata": {
    "collapsed": false,
    "pycharm": {
     "name": "#%%\n"
    }
   }
  }
 ],
 "metadata": {
  "kernelspec": {
   "display_name": "Python 3 (ipykernel)",
   "language": "python",
   "name": "python3"
  },
  "language_info": {
   "codemirror_mode": {
    "name": "ipython",
    "version": 3
   },
   "file_extension": ".py",
   "mimetype": "text/x-python",
   "name": "python",
   "nbconvert_exporter": "python",
   "pygments_lexer": "ipython3",
   "version": "3.9.12"
  }
 },
 "nbformat": 4,
 "nbformat_minor": 5
}